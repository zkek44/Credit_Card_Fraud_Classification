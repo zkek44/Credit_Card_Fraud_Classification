{
 "cells": [
  {
   "cell_type": "markdown",
   "id": "439e2df8-d2ca-4f2c-8a8d-b2c0664a0f81",
   "metadata": {},
   "source": [
    "# Credit Card Fraud Detection Project"
   ]
  },
  {
   "cell_type": "markdown",
   "id": "1f54c1c8-0319-482d-b21f-738e7299e56a",
   "metadata": {},
   "source": [
    "## Import Necessary Libraries"
   ]
  },
  {
   "cell_type": "code",
   "execution_count": 39,
   "id": "54039d46-3a46-4585-8a4b-bc07a35a3012",
   "metadata": {},
   "outputs": [],
   "source": [
    "import pandas as pd\n",
    "import numpy as np\n",
    "import matplotlib.pyplot as plt\n",
    "import seaborn as sns\n",
    "sns.set()\n",
    "from sklearn.preprocessing import StandardScaler\n",
    "from sklearn.cluster import KMeans, DBSCAN\n",
    "from sklearn.neighbors import LocalOutlierFactor\n",
    "from sklearn.ensemble import IsolationForest"
   ]
  },
  {
   "cell_type": "markdown",
   "id": "b21e9a59-3725-4f77-b272-b68f5b0a865f",
   "metadata": {},
   "source": [
    "## Load and Merge Data"
   ]
  },
  {
   "cell_type": "code",
   "execution_count": 4,
   "id": "d06baf39-a40e-404c-9b91-1d74f2d13204",
   "metadata": {},
   "outputs": [],
   "source": [
    "cc_info = pd.read_csv('cc_info.csv')\n",
    "transactions = pd.read_csv('transactions.csv')"
   ]
  },
  {
   "cell_type": "code",
   "execution_count": 6,
   "id": "d4788dbe-692d-4d68-bc14-02c55ccb9614",
   "metadata": {},
   "outputs": [
    {
     "data": {
      "text/html": [
       "<div>\n",
       "<style scoped>\n",
       "    .dataframe tbody tr th:only-of-type {\n",
       "        vertical-align: middle;\n",
       "    }\n",
       "\n",
       "    .dataframe tbody tr th {\n",
       "        vertical-align: top;\n",
       "    }\n",
       "\n",
       "    .dataframe thead th {\n",
       "        text-align: right;\n",
       "    }\n",
       "</style>\n",
       "<table border=\"1\" class=\"dataframe\">\n",
       "  <thead>\n",
       "    <tr style=\"text-align: right;\">\n",
       "      <th></th>\n",
       "      <th>credit_card</th>\n",
       "      <th>date</th>\n",
       "      <th>transaction_dollar_amount</th>\n",
       "      <th>Long</th>\n",
       "      <th>Lat</th>\n",
       "      <th>city</th>\n",
       "      <th>state</th>\n",
       "      <th>zipcode</th>\n",
       "      <th>credit_card_limit</th>\n",
       "    </tr>\n",
       "  </thead>\n",
       "  <tbody>\n",
       "    <tr>\n",
       "      <th>0</th>\n",
       "      <td>1003715054175576</td>\n",
       "      <td>2015-09-11 00:32:40</td>\n",
       "      <td>43.78</td>\n",
       "      <td>-80.174132</td>\n",
       "      <td>40.267370</td>\n",
       "      <td>Houston</td>\n",
       "      <td>PA</td>\n",
       "      <td>15342</td>\n",
       "      <td>20000</td>\n",
       "    </tr>\n",
       "    <tr>\n",
       "      <th>1</th>\n",
       "      <td>1003715054175576</td>\n",
       "      <td>2015-10-24 22:23:08</td>\n",
       "      <td>103.15</td>\n",
       "      <td>-80.194240</td>\n",
       "      <td>40.180114</td>\n",
       "      <td>Houston</td>\n",
       "      <td>PA</td>\n",
       "      <td>15342</td>\n",
       "      <td>20000</td>\n",
       "    </tr>\n",
       "    <tr>\n",
       "      <th>2</th>\n",
       "      <td>1003715054175576</td>\n",
       "      <td>2015-10-26 18:19:36</td>\n",
       "      <td>48.55</td>\n",
       "      <td>-80.211033</td>\n",
       "      <td>40.313004</td>\n",
       "      <td>Houston</td>\n",
       "      <td>PA</td>\n",
       "      <td>15342</td>\n",
       "      <td>20000</td>\n",
       "    </tr>\n",
       "    <tr>\n",
       "      <th>3</th>\n",
       "      <td>1003715054175576</td>\n",
       "      <td>2015-10-22 19:41:10</td>\n",
       "      <td>136.18</td>\n",
       "      <td>-80.174138</td>\n",
       "      <td>40.290895</td>\n",
       "      <td>Houston</td>\n",
       "      <td>PA</td>\n",
       "      <td>15342</td>\n",
       "      <td>20000</td>\n",
       "    </tr>\n",
       "    <tr>\n",
       "      <th>4</th>\n",
       "      <td>1003715054175576</td>\n",
       "      <td>2015-10-26 20:08:22</td>\n",
       "      <td>71.82</td>\n",
       "      <td>-80.238720</td>\n",
       "      <td>40.166719</td>\n",
       "      <td>Houston</td>\n",
       "      <td>PA</td>\n",
       "      <td>15342</td>\n",
       "      <td>20000</td>\n",
       "    </tr>\n",
       "  </tbody>\n",
       "</table>\n",
       "</div>"
      ],
      "text/plain": [
       "        credit_card                date  transaction_dollar_amount       Long  \\\n",
       "0  1003715054175576 2015-09-11 00:32:40                      43.78 -80.174132   \n",
       "1  1003715054175576 2015-10-24 22:23:08                     103.15 -80.194240   \n",
       "2  1003715054175576 2015-10-26 18:19:36                      48.55 -80.211033   \n",
       "3  1003715054175576 2015-10-22 19:41:10                     136.18 -80.174138   \n",
       "4  1003715054175576 2015-10-26 20:08:22                      71.82 -80.238720   \n",
       "\n",
       "         Lat     city state  zipcode  credit_card_limit  \n",
       "0  40.267370  Houston    PA    15342              20000  \n",
       "1  40.180114  Houston    PA    15342              20000  \n",
       "2  40.313004  Houston    PA    15342              20000  \n",
       "3  40.290895  Houston    PA    15342              20000  \n",
       "4  40.166719  Houston    PA    15342              20000  "
      ]
     },
     "execution_count": 6,
     "metadata": {},
     "output_type": "execute_result"
    }
   ],
   "source": [
    "# Merge on 'credit_card'\n",
    "merged_df = transactions.merge(cc_info, on='credit_card', how='left')\n",
    "\n",
    "# Convert 'date' to datetime\n",
    "merged_df['date'] = pd.to_datetime(merged_df['date'])\n",
    "\n",
    "merged_df.head()"
   ]
  },
  {
   "cell_type": "code",
   "execution_count": 52,
   "id": "0523c0bc-f168-4f89-b9c4-f02f4ff4017f",
   "metadata": {},
   "outputs": [
    {
     "data": {
      "text/plain": [
       "(294588, 23)"
      ]
     },
     "execution_count": 52,
     "metadata": {},
     "output_type": "execute_result"
    }
   ],
   "source": [
    "merged_df.shape"
   ]
  },
  {
   "cell_type": "markdown",
   "id": "f163d9f9-58e7-4e4d-9a1e-85abe4eba418",
   "metadata": {},
   "source": [
    "### Look for null/missing values"
   ]
  },
  {
   "cell_type": "code",
   "execution_count": 9,
   "id": "c7ed5fb4-45d4-4ece-b235-3364d867d287",
   "metadata": {},
   "outputs": [
    {
     "data": {
      "text/plain": [
       "credit_card                  0\n",
       "date                         0\n",
       "transaction_dollar_amount    0\n",
       "Long                         0\n",
       "Lat                          0\n",
       "city                         0\n",
       "state                        0\n",
       "zipcode                      0\n",
       "credit_card_limit            0\n",
       "dtype: int64"
      ]
     },
     "execution_count": 9,
     "metadata": {},
     "output_type": "execute_result"
    }
   ],
   "source": [
    "merged_df.isnull().sum()"
   ]
  },
  {
   "cell_type": "markdown",
   "id": "97b89a34-3a35-461b-b4a9-3c82593bc5b3",
   "metadata": {},
   "source": [
    "### Visualize numerical data"
   ]
  },
  {
   "cell_type": "code",
   "execution_count": 12,
   "id": "c555d1bc-f26f-432e-89ff-6182dab87f91",
   "metadata": {},
   "outputs": [
    {
     "data": {
      "image/png": "[encoded data removed]",
      "text/plain": [
       "<Figure size 1000x600 with 1 Axes>"
      ]
     },
     "metadata": {},
     "output_type": "display_data"
    }
   ],
   "source": [
    "plt.figure(figsize=(10, 6))\n",
    "plt.hist(merged_df['transaction_dollar_amount'], bins=50, edgecolor='black')\n",
    "plt.title('Histogram of Transaction Dollar Amount')\n",
    "plt.xlabel('Transaction Amount ($)')\n",
    "plt.ylabel('Frequency')\n",
    "plt.show()"
   ]
  },
  {
   "cell_type": "markdown",
   "id": "84f1ab2a-8b1d-4b30-b56f-942b1a05869b",
   "metadata": {},
   "source": [
    "We can see that most transactions fall below \\$500, however it looks like there are a few transactions between \\$800 and \\$1,000. These are most likely fraud transactions that we will look to classify."
   ]
  },
  {
   "cell_type": "code",
   "execution_count": 14,
   "id": "d2bfb3af-6e2c-46b9-abd8-590c0cb87c08",
   "metadata": {},
   "outputs": [
    {
     "data": {
      "image/png": "[encoded data removed]",
      "text/plain": [
       "<Figure size 1000x600 with 1 Axes>"
      ]
     },
     "metadata": {},
     "output_type": "display_data"
    }
   ],
   "source": [
    "plt.figure(figsize=(10, 6))\n",
    "plt.hist(merged_df['credit_card_limit'], bins=30, edgecolor='black', color='orange')\n",
    "plt.title('Histogram of Credit Card Limits')\n",
    "plt.xlabel('Credit Limit ($)')\n",
    "plt.ylabel('Frequency')\n",
    "plt.show()"
   ]
  },
  {
   "cell_type": "markdown",
   "id": "8fe64dd7-5d99-4db0-aeba-974b5e83f9d1",
   "metadata": {},
   "source": [
    "Now that we have all of the pertinent information on one data frame and see that we don't have any missing values, we will continue with feature engineering."
   ]
  },
  {
   "cell_type": "markdown",
   "id": "a74dd87f-e9f8-4b40-b649-a77a0e27902a",
   "metadata": {},
   "source": [
    "## Feature Engineering"
   ]
  },
  {
   "cell_type": "markdown",
   "id": "28db10d2-8e80-4bcb-969b-754ec4671835",
   "metadata": {},
   "source": [
    "My goals for feature engineering are to create the following variables:\n",
    "\n",
    "Amount Limit Ration: calculates the ratio of the transaction amount to the credit limit.\n",
    "\n",
    "Transaction Hour: extracts the hour from the transaction timestamp.\n",
    "\n",
    "Transaction Count per Card: the total number of transactions on each card.\n",
    "\n",
    "Daily Total Amount: the daily total number of transactions on each card.\n",
    "\n",
    "Amount Zscore: shows how extreme each transaction is compared with the card's normal behavior"
   ]
  },
  {
   "cell_type": "code",
   "execution_count": 17,
   "id": "e969fdb9-7853-4f21-862c-a2221daf3070",
   "metadata": {},
   "outputs": [],
   "source": [
    "# Transaction Amount to Credit Limit Ratio\n",
    "merged_df['amount_limit_ratio'] = merged_df['transaction_dollar_amount'] / merged_df['credit_card_limit']\n",
    "\n",
    "# Transaction Hour\n",
    "merged_df['transaction_hour'] = merged_df['date'].dt.hour\n",
    "\n",
    "# Transaction Count per Card\n",
    "merged_df['transaction_count_per_card'] = merged_df.groupby('credit_card')['credit_card'].transform('count')\n",
    "\n",
    "# Daily Total Amount per Card\n",
    "merged_df['transaction_date'] = merged_df['date'].dt.date\n",
    "merged_df['daily_total_amount'] = merged_df.groupby(['credit_card', 'transaction_date'])['transaction_dollar_amount'].transform('sum')\n",
    "\n",
    "# Z-score of transaction amount per card\n",
    "merged_df['amount_mean'] = merged_df.groupby('credit_card')['transaction_dollar_amount'].transform('mean')\n",
    "merged_df['amount_std'] = merged_df.groupby('credit_card')['transaction_dollar_amount'].transform('std')\n",
    "merged_df['amount_zscore'] = (merged_df['transaction_dollar_amount'] - merged_df['amount_mean']) / merged_df['amount_std']"
   ]
  },
  {
   "cell_type": "code",
   "execution_count": 19,
   "id": "c02e9550-4429-4974-bef4-144f106c388a",
   "metadata": {},
   "outputs": [
    {
     "data": {
      "text/html": [
       "<div>\n",
       "<style scoped>\n",
       "    .dataframe tbody tr th:only-of-type {\n",
       "        vertical-align: middle;\n",
       "    }\n",
       "\n",
       "    .dataframe tbody tr th {\n",
       "        vertical-align: top;\n",
       "    }\n",
       "\n",
       "    .dataframe thead th {\n",
       "        text-align: right;\n",
       "    }\n",
       "</style>\n",
       "<table border=\"1\" class=\"dataframe\">\n",
       "  <thead>\n",
       "    <tr style=\"text-align: right;\">\n",
       "      <th></th>\n",
       "      <th>credit_card</th>\n",
       "      <th>date</th>\n",
       "      <th>transaction_dollar_amount</th>\n",
       "      <th>Long</th>\n",
       "      <th>Lat</th>\n",
       "      <th>city</th>\n",
       "      <th>state</th>\n",
       "      <th>zipcode</th>\n",
       "      <th>credit_card_limit</th>\n",
       "      <th>amount_limit_ratio</th>\n",
       "      <th>transaction_hour</th>\n",
       "      <th>transaction_count_per_card</th>\n",
       "      <th>transaction_date</th>\n",
       "      <th>daily_total_amount</th>\n",
       "      <th>amount_mean</th>\n",
       "      <th>amount_std</th>\n",
       "      <th>amount_zscore</th>\n",
       "    </tr>\n",
       "  </thead>\n",
       "  <tbody>\n",
       "    <tr>\n",
       "      <th>0</th>\n",
       "      <td>1003715054175576</td>\n",
       "      <td>2015-09-11 00:32:40</td>\n",
       "      <td>43.78</td>\n",
       "      <td>-80.174132</td>\n",
       "      <td>40.267370</td>\n",
       "      <td>Houston</td>\n",
       "      <td>PA</td>\n",
       "      <td>15342</td>\n",
       "      <td>20000</td>\n",
       "      <td>0.002189</td>\n",
       "      <td>0</td>\n",
       "      <td>261</td>\n",
       "      <td>2015-09-11</td>\n",
       "      <td>1411.40</td>\n",
       "      <td>110.497471</td>\n",
       "      <td>129.120961</td>\n",
       "      <td>-0.516705</td>\n",
       "    </tr>\n",
       "    <tr>\n",
       "      <th>1</th>\n",
       "      <td>1003715054175576</td>\n",
       "      <td>2015-10-24 22:23:08</td>\n",
       "      <td>103.15</td>\n",
       "      <td>-80.194240</td>\n",
       "      <td>40.180114</td>\n",
       "      <td>Houston</td>\n",
       "      <td>PA</td>\n",
       "      <td>15342</td>\n",
       "      <td>20000</td>\n",
       "      <td>0.005158</td>\n",
       "      <td>22</td>\n",
       "      <td>261</td>\n",
       "      <td>2015-10-24</td>\n",
       "      <td>457.24</td>\n",
       "      <td>110.497471</td>\n",
       "      <td>129.120961</td>\n",
       "      <td>-0.056904</td>\n",
       "    </tr>\n",
       "    <tr>\n",
       "      <th>2</th>\n",
       "      <td>1003715054175576</td>\n",
       "      <td>2015-10-26 18:19:36</td>\n",
       "      <td>48.55</td>\n",
       "      <td>-80.211033</td>\n",
       "      <td>40.313004</td>\n",
       "      <td>Houston</td>\n",
       "      <td>PA</td>\n",
       "      <td>15342</td>\n",
       "      <td>20000</td>\n",
       "      <td>0.002427</td>\n",
       "      <td>18</td>\n",
       "      <td>261</td>\n",
       "      <td>2015-10-26</td>\n",
       "      <td>174.04</td>\n",
       "      <td>110.497471</td>\n",
       "      <td>129.120961</td>\n",
       "      <td>-0.479763</td>\n",
       "    </tr>\n",
       "    <tr>\n",
       "      <th>3</th>\n",
       "      <td>1003715054175576</td>\n",
       "      <td>2015-10-22 19:41:10</td>\n",
       "      <td>136.18</td>\n",
       "      <td>-80.174138</td>\n",
       "      <td>40.290895</td>\n",
       "      <td>Houston</td>\n",
       "      <td>PA</td>\n",
       "      <td>15342</td>\n",
       "      <td>20000</td>\n",
       "      <td>0.006809</td>\n",
       "      <td>19</td>\n",
       "      <td>261</td>\n",
       "      <td>2015-10-22</td>\n",
       "      <td>310.08</td>\n",
       "      <td>110.497471</td>\n",
       "      <td>129.120961</td>\n",
       "      <td>0.198903</td>\n",
       "    </tr>\n",
       "    <tr>\n",
       "      <th>4</th>\n",
       "      <td>1003715054175576</td>\n",
       "      <td>2015-10-26 20:08:22</td>\n",
       "      <td>71.82</td>\n",
       "      <td>-80.238720</td>\n",
       "      <td>40.166719</td>\n",
       "      <td>Houston</td>\n",
       "      <td>PA</td>\n",
       "      <td>15342</td>\n",
       "      <td>20000</td>\n",
       "      <td>0.003591</td>\n",
       "      <td>20</td>\n",
       "      <td>261</td>\n",
       "      <td>2015-10-26</td>\n",
       "      <td>174.04</td>\n",
       "      <td>110.497471</td>\n",
       "      <td>129.120961</td>\n",
       "      <td>-0.299544</td>\n",
       "    </tr>\n",
       "  </tbody>\n",
       "</table>\n",
       "</div>"
      ],
      "text/plain": [
       "        credit_card                date  transaction_dollar_amount       Long  \\\n",
       "0  1003715054175576 2015-09-11 00:32:40                      43.78 -80.174132   \n",
       "1  1003715054175576 2015-10-24 22:23:08                     103.15 -80.194240   \n",
       "2  1003715054175576 2015-10-26 18:19:36                      48.55 -80.211033   \n",
       "3  1003715054175576 2015-10-22 19:41:10                     136.18 -80.174138   \n",
       "4  1003715054175576 2015-10-26 20:08:22                      71.82 -80.238720   \n",
       "\n",
       "         Lat     city state  zipcode  credit_card_limit  amount_limit_ratio  \\\n",
       "0  40.267370  Houston    PA    15342              20000            0.002189   \n",
       "1  40.180114  Houston    PA    15342              20000            0.005158   \n",
       "2  40.313004  Houston    PA    15342              20000            0.002427   \n",
       "3  40.290895  Houston    PA    15342              20000            0.006809   \n",
       "4  40.166719  Houston    PA    15342              20000            0.003591   \n",
       "\n",
       "   transaction_hour  transaction_count_per_card transaction_date  \\\n",
       "0                 0                         261       2015-09-11   \n",
       "1                22                         261       2015-10-24   \n",
       "2                18                         261       2015-10-26   \n",
       "3                19                         261       2015-10-22   \n",
       "4                20                         261       2015-10-26   \n",
       "\n",
       "   daily_total_amount  amount_mean  amount_std  amount_zscore  \n",
       "0             1411.40   110.497471  129.120961      -0.516705  \n",
       "1              457.24   110.497471  129.120961      -0.056904  \n",
       "2              174.04   110.497471  129.120961      -0.479763  \n",
       "3              310.08   110.497471  129.120961       0.198903  \n",
       "4              174.04   110.497471  129.120961      -0.299544  "
      ]
     },
     "execution_count": 19,
     "metadata": {},
     "output_type": "execute_result"
    }
   ],
   "source": [
    "merged_df.head()"
   ]
  },
  {
   "cell_type": "markdown",
   "id": "5834ff1f-c271-4c15-bd95-dcb58b0b1664",
   "metadata": {},
   "source": [
    "## Model Building"
   ]
  },
  {
   "cell_type": "markdown",
   "id": "b54ca8cd-43cf-4596-88ab-5f1e35eb2b78",
   "metadata": {},
   "source": [
    "We will use 4 different unsupervised algorithms and compare which one performs the best; KMeans Clustering, Density-Based Anomaly Detection (DBSCAN), Local Outlier Factor (LOF), and Isolation Forest."
   ]
  },
  {
   "cell_type": "markdown",
   "id": "89cd7972-2873-457c-a507-7785affecb56",
   "metadata": {},
   "source": [
    "### KMeans Clustering"
   ]
  },
  {
   "cell_type": "code",
   "execution_count": 41,
   "id": "c315f46c-0dc8-4231-9f90-eca1e3475aa9",
   "metadata": {},
   "outputs": [
    {
     "name": "stdout",
     "output_type": "stream",
     "text": [
      "kmeans_cluster\n",
      "1    242688\n",
      "0     46374\n",
      "2      5526\n",
      "Name: count, dtype: int64\n",
      "       kmeans_cluster  kmeans_distance\n",
      "count   294588.000000    294588.000000\n",
      "mean         0.861339         1.403724\n",
      "std          0.396171         0.847232\n",
      "min          0.000000         0.065984\n",
      "25%          1.000000         0.911995\n",
      "50%          1.000000         1.234439\n",
      "75%          1.000000         1.673020\n",
      "max          2.000000        32.184705\n"
     ]
    }
   ],
   "source": [
    "features = merged_df[['amount_limit_ratio', 'transaction_hour', 'transaction_count_per_card',\n",
    "                      'daily_total_amount', 'amount_zscore']].fillna(0)\n",
    "\n",
    "scaler = StandardScaler()\n",
    "scaled_features = scaler.fit_transform(features)\n",
    "\n",
    "kmeans = KMeans(n_clusters=3, random_state=42, n_init=10)\n",
    "merged_df['kmeans_cluster'] = kmeans.fit_predict(scaled_features)\n",
    "\n",
    "# Calculate distance to cluster center as an anomaly score\n",
    "merged_df['kmeans_distance'] = np.linalg.norm(scaled_features - kmeans.cluster_centers_[merged_df['kmeans_cluster']], axis=1)\n",
    "\n",
    "# Cluster summary\n",
    "print(merged_df['kmeans_cluster'].value_counts())\n",
    "print(merged_df[['kmeans_cluster', 'kmeans_distance']].describe())"
   ]
  },
  {
   "cell_type": "markdown",
   "id": "fc11e772-000e-463c-8e83-b8575a09be90",
   "metadata": {},
   "source": [
    "### DBSCAN"
   ]
  },
  {
   "cell_type": "markdown",
   "id": "1fb6318b-5911-4b46-a255-b9f3b85648fd",
   "metadata": {},
   "source": [
    "One issue I ran into while running the DBSCAN algorithm on the full dataset was that it overloaded my RAM due to the sheer size of the dataset. To overcome this issue, I randomly sampled 10,000 observations from the original dataset."
   ]
  },
  {
   "cell_type": "code",
   "execution_count": 30,
   "id": "02d4f47a-4984-4c70-a097-e36c64fe5f36",
   "metadata": {},
   "outputs": [
    {
     "name": "stdout",
     "output_type": "stream",
     "text": [
      "dbscan_label\n",
      " 0    9812\n",
      " 1     129\n",
      "-1      59\n",
      "Name: count, dtype: int64\n"
     ]
    }
   ],
   "source": [
    "# Sample 10,000 rows for DBSCAN\n",
    "sample_df = merged_df.sample(n=10000, random_state=42)\n",
    "sample_features = sample_df[['amount_limit_ratio', 'transaction_hour', 'transaction_count_per_card',\n",
    "                             'daily_total_amount', 'amount_zscore']].fillna(0)\n",
    "\n",
    "scaler = StandardScaler()\n",
    "sample_scaled = scaler.fit_transform(sample_features)\n",
    "\n",
    "dbscan = DBSCAN(eps=1.5, min_samples=10)\n",
    "sample_df['dbscan_label'] = dbscan.fit_predict(sample_scaled)\n",
    "\n",
    "print(sample_df['dbscan_label'].value_counts())"
   ]
  },
  {
   "cell_type": "markdown",
   "id": "3df6c9ad-9144-4092-8fa0-6010cd5de3a4",
   "metadata": {},
   "source": [
    "### LOF"
   ]
  },
  {
   "cell_type": "code",
   "execution_count": 36,
   "id": "3551ad13-c45e-4256-b8b9-ea727ac6f28d",
   "metadata": {},
   "outputs": [
    {
     "name": "stdout",
     "output_type": "stream",
     "text": [
      "LOF flagged 2946 outliers.\n"
     ]
    }
   ],
   "source": [
    "lof = LocalOutlierFactor(n_neighbors=20, contamination=0.01)\n",
    "merged_df['lof_score'] = lof.fit_predict(scaled_features)\n",
    "merged_df['lof_outlier_score'] = lof.negative_outlier_factor_\n",
    "\n",
    "lof_outliers = (merged_df['lof_score'] == -1).sum()\n",
    "print(f\"LOF flagged {lof_outliers} outliers.\")"
   ]
  },
  {
   "cell_type": "markdown",
   "id": "0f9e7b2f-5e78-4bdf-9be8-4e5f716ee692",
   "metadata": {},
   "source": [
    "### Isolation Forest"
   ]
  },
  {
   "cell_type": "code",
   "execution_count": 43,
   "id": "24ffa1d2-8a03-4dc6-b4a0-387d07d69e80",
   "metadata": {},
   "outputs": [
    {
     "name": "stdout",
     "output_type": "stream",
     "text": [
      "Isolation Forest flagged 2946 outliers.\n"
     ]
    }
   ],
   "source": [
    "isoforest = IsolationForest(n_estimators=100, contamination=0.01, random_state=42)\n",
    "merged_df['isoforest_score'] = isoforest.fit_predict(scaled_features)\n",
    "merged_df['isoforest_anomaly_score'] = isoforest.decision_function(scaled_features)\n",
    "\n",
    "iso_outliers = (merged_df['isoforest_score'] == -1).sum()\n",
    "print(f\"Isolation Forest flagged {iso_outliers} outliers.\")"
   ]
  },
  {
   "cell_type": "markdown",
   "id": "aac1d802-7a5d-4e5a-b4c1-fce47874804b",
   "metadata": {},
   "source": [
    "## Results"
   ]
  },
  {
   "cell_type": "code",
   "execution_count": 50,
   "id": "f81b5995-461e-4661-a5ec-0dce6fa89c57",
   "metadata": {},
   "outputs": [
    {
     "name": "stdout",
     "output_type": "stream",
     "text": [
      "             Method  Num Outliers\n",
      "0            KMeans          5526\n",
      "1            DBSCAN            59\n",
      "2               LOF          2946\n",
      "3  Isolation Forest          2946\n"
     ]
    }
   ],
   "source": [
    "smallest_cluster_id = merged_df['kmeans_cluster'].value_counts().idxmin()\n",
    "comparison_summary = pd.DataFrame({\n",
    "    'Method': ['KMeans', 'DBSCAN', 'LOF', 'Isolation Forest'],\n",
    "    'Num Outliers': [\n",
    "        len(merged_df[merged_df['kmeans_cluster'] == smallest_cluster_id]),  # define this\n",
    "        (sample_df['dbscan_label'] == -1).sum(),\n",
    "        (merged_df['lof_score'] == -1).sum(),\n",
    "        (merged_df['isoforest_score'] == -1).sum()\n",
    "    ]\n",
    "})\n",
    "print(comparison_summary)"
   ]
  },
  {
   "cell_type": "markdown",
   "id": "8779a043-d4ba-4c6a-b358-ab7c648d6967",
   "metadata": {},
   "source": [
    "LOF and isolation forest have both identified 2,946 outliers, which is about 1% of the total dataset. Even though DBSCAN was trained on a sample dataset, it still identified about 0.5% of the full dataset as outliers which is comparable to LOF and isolation forest. Since I was unable to train DBSCAN on the full dataset, I plan to eliminate that model from contention. KMeans classified almost double the amount of outliers as LOF and isolation forest, but is it really the better algorithm? I will determine that by looking at distributions of the anomaly scores."
   ]
  },
  {
   "cell_type": "code",
   "execution_count": 54,
   "id": "02246a91-fcfe-42d9-8ee2-ec5390f6bb45",
   "metadata": {},
   "outputs": [
    {
     "data": {
      "image/png": "[encoded data removed]",
      "text/plain": [
       "<Figure size 640x480 with 1 Axes>"
      ]
     },
     "metadata": {},
     "output_type": "display_data"
    },
    {
     "data": {
      "image/png": "[encoded data removed]",
      "text/plain": [
       "<Figure size 640x480 with 1 Axes>"
      ]
     },
     "metadata": {},
     "output_type": "display_data"
    },
    {
     "data": {
      "image/png": "[encoded data removed]",
      "text/plain": [
       "<Figure size 640x480 with 1 Axes>"
      ]
     },
     "metadata": {},
     "output_type": "display_data"
    }
   ],
   "source": [
    "# Histogram of KMeans distance scores\n",
    "plt.hist(merged_df['kmeans_distance'], bins=50)\n",
    "plt.title('KMeans Distance from Cluster Center')\n",
    "plt.show()\n",
    "\n",
    "# Histogram of LOF outlier score\n",
    "plt.hist(merged_df['lof_outlier_score'], bins=50)\n",
    "plt.title('LOF Negative Outlier Factor')\n",
    "plt.show()\n",
    "\n",
    "# Histogram of Isolation Forest scores\n",
    "plt.hist(merged_df['isoforest_anomaly_score'], bins=50)\n",
    "plt.title('Isolation Forest Anomaly Score')\n",
    "plt.show()"
   ]
  },
  {
   "cell_type": "markdown",
   "id": "5d69bb7a-8986-4cf0-99b9-ec70147d915a",
   "metadata": {},
   "source": [
    "Typically, a good distribution of anomaly scores is shown by having a clear tail on the graph. Based off of this factor, I would say that the best model would be the isolation forest."
   ]
  },
  {
   "cell_type": "markdown",
   "id": "7a0c6105-1282-4dc4-b836-6394bca545dc",
   "metadata": {},
   "source": [
    "## Future Work"
   ]
  },
  {
   "cell_type": "markdown",
   "id": "7795188e-e618-4d7d-a911-01b326f24aed",
   "metadata": {},
   "source": [
    "If I was to come back to this project, I would like to improve the DBSCAN algorithm using PCA so it can utilize the full dataset to determine if it could compare to isolation forest."
   ]
  }
 ],
 "metadata": {
  "kernelspec": {
   "display_name": "Python 3 (ipykernel)",
   "language": "python",
   "name": "python3"
  },
  "language_info": {
   "codemirror_mode": {
    "name": "ipython",
    "version": 3
   },
   "file_extension": ".py",
   "mimetype": "text/x-python",
   "name": "python",
   "nbconvert_exporter": "python",
   "pygments_lexer": "ipython3",
   "version": "3.12.4"
  }
 },
 "nbformat": 4,
 "nbformat_minor": 5
}
